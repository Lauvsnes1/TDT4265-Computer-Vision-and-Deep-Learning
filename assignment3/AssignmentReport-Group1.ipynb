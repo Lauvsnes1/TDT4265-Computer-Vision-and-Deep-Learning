{
 "cells": [
  {
   "cell_type": "markdown",
   "metadata": {
    "cell_id": "ae2e3e0a-a9f8-499b-b2b6-7238bc9812ac",
    "deepnote_cell_type": "markdown"
   },
   "source": [
    "# Assignment 3 Report"
   ]
  },
  {
   "cell_type": "markdown",
   "metadata": {
    "cell_id": "00001-fe966c96-8f27-462f-ab79-221d36d9a31c",
    "deepnote_cell_type": "markdown"
   },
   "source": [
    "This is an outline for your report to ease the amount of work required to create your report. Jupyter notebook supports markdown, and I recommend you to check out this [cheat sheet](https://github.com/adam-p/markdown-here/wiki/Markdown-Cheatsheet). If you are not familiar with markdown.\n",
    "\n",
    "Before delivery, **remember to convert this file to PDF**. You can do it in two ways:\n",
    "1. Print the webpage (ctrl+P or cmd+P)\n",
    "2. Export with latex. This is somewhat more difficult, but you'll get somehwat of a \"prettier\" PDF. Go to File -> Download as -> PDF via LaTeX. You might have to install nbconvert and pandoc through conda; `conda install nbconvert pandoc`."
   ]
  },
  {
   "cell_type": "markdown",
   "metadata": {
    "cell_id": "00002-6ebafe4c-7e81-4064-b9a2-94c381d24252",
    "deepnote_cell_type": "markdown"
   },
   "source": [
    "# Task 1"
   ]
  },
  {
   "cell_type": "markdown",
   "metadata": {
    "cell_id": "00003-54b8f35b-0f02-4470-b76d-e5684797a647",
    "deepnote_cell_type": "markdown"
   },
   "source": [
    "## task 1a)\n",
    "\n",
    "Since this is a convolutional kernel, there is no need to flip it. Hence, we pad it with one line zeroes in both dimentions and do the convolution by hand and get the result:\n",
    "\n",
    "![](oppg1a.jpeg)\n",
    "\n"
   ]
  },
  {
   "cell_type": "markdown",
   "metadata": {
    "cell_id": "00004-3f23067c-148a-47bf-a93a-e0caec9f4782",
    "deepnote_cell_type": "markdown"
   },
   "source": [
    "## task 1b)\n",
    "\n",
    "iii) Maxpooling reduces the sensitivity for translation since it takes a region of pixels and return the maximum intensity. By doing this, it will be more general to small translations. "
   ]
  },
  {
   "cell_type": "markdown",
   "metadata": {
    "cell_id": "5036a163-9e5b-4d77-9798-554da1c0d5eb",
    "deepnote_cell_type": "markdown",
    "tags": []
   },
   "source": [
    "## task 1c)\n",
    "\n",
    "Since the stride is 1, and the kernel is of size (5x5), you need to pad the input image with 2 zeroes on each side to keep the original shape."
   ]
  },
  {
   "cell_type": "markdown",
   "metadata": {
    "cell_id": "1c4fca68-b2aa-483c-ae44-d6ffac7dd3cd",
    "deepnote_cell_type": "markdown",
    "tags": []
   },
   "source": [
    "## task 1d)\n",
    "\n",
    "(5x5)?"
   ]
  },
  {
   "cell_type": "markdown",
   "metadata": {
    "cell_id": "7d4da05f-fc06-455a-9673-3617c45f1bb2",
    "deepnote_cell_type": "markdown",
    "tags": []
   },
   "source": [
    "## task 1e)\n",
    "$(\\frac{height}{2} - 2) \\times (\\frac{width}{2} - 2) $"
   ]
  },
  {
   "cell_type": "markdown",
   "metadata": {
    "cell_id": "98a658a5-e4d7-4975-9f1a-26c2a5c99667",
    "deepnote_cell_type": "markdown",
    "tags": []
   },
   "source": [
    "## task 1f)\n",
    "\n",
    "$(height_{in} - 2)\\times (width_{in} -2)$"
   ]
  },
  {
   "cell_type": "markdown",
   "metadata": {
    "cell_id": "53a8dde5-d3d8-427e-a683-a0616195bd38",
    "deepnote_cell_type": "markdown",
    "tags": []
   },
   "source": [
    "## task 1g)\n",
    "\n",
    "| layer.no        | Activation shape  &nbsp; &nbsp;    | &nbsp;&nbsp;activation size &nbsp;&nbsp;  |  &nbsp;&nbsp;&nbsp;# parameters |\n",
    "| -------------- |:-----------------:| :----------:| :-----------:|\n",
    "| 1. input layer      | (32x32x3) | 3072 | 0             |\n",
    "| 2. Conv2D     |   (32x32x32)    |   $12 |              |\n",
    "| zebra stripes | are neat      |    $1 |              |\n",
    "\n",
    "1. The first layer is the input layer, so it has no parameters. \n",
    "2. The second layer is a convolutional layer, and since it uses padding, and stride = 1, the image keeps its dimetions. Number of parameters is therefore ((32x32x3)+1)x32)"
   ]
  },
  {
   "cell_type": "markdown",
   "metadata": {
    "cell_id": "00005-def27c7f-adef-4978-bd25-1781ce69e5a5",
    "deepnote_cell_type": "markdown"
   },
   "source": [
    "# Task 2"
   ]
  },
  {
   "cell_type": "markdown",
   "metadata": {
    "cell_id": "00006-252b3813-1664-4960-b684-eb6f952e48b6",
    "deepnote_cell_type": "markdown"
   },
   "source": [
    "## Task 2b)\n"
   ]
  },
  {
   "cell_type": "markdown",
   "metadata": {
    "cell_id": "00008-41e3f095-d04b-41cd-aaf9-9630b74fe03b",
    "deepnote_cell_type": "markdown"
   },
   "source": [
    "# Task 3"
   ]
  },
  {
   "cell_type": "markdown",
   "metadata": {},
   "source": [
    "## Task 3a)"
   ]
  },
  {
   "cell_type": "markdown",
   "metadata": {},
   "source": [
    "## Task 3b)\n",
    "\n",
    "| Model        | Train loss  &nbsp; &nbsp;    | &nbsp;&nbsp;Train accuracy &nbsp;&nbsp;  |  &nbsp;&nbsp;&nbsp; Validation accuracy | &nbsp;&nbsp;&nbsp; Test accuracy |\n",
    "| -------------- |:-----------------:| :----------:| :-----------:| :-----------:|\n",
    "| Model 1      |  |  |             | |\n",
    "| Model 2     |       |    |              ||"
   ]
  },
  {
   "cell_type": "markdown",
   "metadata": {},
   "source": [
    "## Task 3c)"
   ]
  },
  {
   "cell_type": "markdown",
   "metadata": {},
   "source": [
    "## Task 3d)"
   ]
  },
  {
   "cell_type": "markdown",
   "metadata": {},
   "source": [
    "## Task 3e)"
   ]
  },
  {
   "cell_type": "markdown",
   "metadata": {},
   "source": [
    "## Task 3f)"
   ]
  },
  {
   "cell_type": "markdown",
   "metadata": {
    "cell_id": "00010-305955dd-e54f-4c3d-b433-34d75216231a",
    "deepnote_cell_type": "markdown"
   },
   "source": [
    "# Task 4"
   ]
  },
  {
   "cell_type": "markdown",
   "metadata": {
    "cell_id": "00011-5b6b1b57-3495-4f78-8cd1-c83bc552f123",
    "deepnote_cell_type": "markdown"
   },
   "source": [
    "## Task 4a)\n",
    "\n",
    "FILL IN ANSWER. "
   ]
  },
  {
   "cell_type": "markdown",
   "metadata": {
    "cell_id": "00012-a6bb8910-1789-457a-bab9-76de81b73f27",
    "deepnote_cell_type": "markdown"
   },
   "source": [
    "## Task 4b)\n",
    "FILL IN ANSWER\n"
   ]
  },
  {
   "cell_type": "markdown",
   "metadata": {
    "cell_id": "00013-1f65537d-4148-4f35-90e0-c1439a580359",
    "deepnote_cell_type": "markdown"
   },
   "source": [
    "## Task 4d)\n",
    "FILL IN ANSWER"
   ]
  },
  {
   "cell_type": "markdown",
   "metadata": {
    "cell_id": "00014-e43cc72e-173b-4f76-85d1-67fbe1c2c7fc",
    "deepnote_cell_type": "markdown"
   },
   "source": [
    "## Task 4e)\n",
    "FILL IN ANSWER"
   ]
  },
  {
   "cell_type": "markdown",
   "metadata": {
    "created_in_deepnote_cell": true,
    "deepnote_cell_type": "markdown",
    "tags": []
   },
   "source": [
    "<a style='text-decoration:none;line-height:16px;display:flex;color:#5B5B62;padding:10px;justify-content:end;' href='https://deepnote.com?utm_source=created-in-deepnote-cell&projectId=fc7fa119-6ed4-4d50-aa34-54bc46270896' target=\"_blank\">\n",
    "<img alt='Created in deepnote.com' style='display:inline;max-height:16px;margin:0px;margin-right:7.5px;' src='data:image/svg+xml;base64,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' > </img>\n",
    "Created in <span style='font-weight:600;margin-left:4px;'>Deepnote</span></a>"
   ]
  }
 ],
 "metadata": {
  "deepnote": {},
  "deepnote_execution_queue": [],
  "deepnote_notebook_id": "e71432ff-cb80-4431-aed7-b549af5becd0",
  "kernelspec": {
   "display_name": "Python 3",
   "language": "python",
   "name": "python3"
  },
  "language_info": {
   "codemirror_mode": {
    "name": "ipython",
    "version": 3
   },
   "file_extension": ".py",
   "mimetype": "text/x-python",
   "name": "python",
   "nbconvert_exporter": "python",
   "pygments_lexer": "ipython3",
   "version": "3.8.10"
  }
 },
 "nbformat": 4,
 "nbformat_minor": 4
}
