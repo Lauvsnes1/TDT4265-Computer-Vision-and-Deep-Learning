{
 "cells": [
  {
   "cell_type": "markdown",
   "source": "# Assignment 1 Report",
   "metadata": {
    "cell_id": "01433843-1964-4828-86b2-15444564be09",
    "deepnote_cell_type": "markdown"
   }
  },
  {
   "cell_type": "markdown",
   "source": "This is an outline for your report to ease the amount of work required to create your report. Jupyter notebook supports markdown, and I recommend you to check out this [cheat sheet](https://github.com/adam-p/markdown-here/wiki/Markdown-Cheatsheet). If you are not familiar with markdown.\n\nBefore delivery, **remember to convert this file to PDF**. You can do it in two ways:\n1. Print the webpage (ctrl+P or cmd+P)\n2. Export with latex. This is somewhat more difficult, but you'll get somehwat of a \"prettier\" PDF. Go to File -> Download as -> PDF via LaTeX. You might have to install nbconvert and pandoc through conda; `conda install nbconvert pandoc`.",
   "metadata": {
    "cell_id": "00001-c1619584-4f16-4f37-903b-136afdb69a0b",
    "deepnote_cell_type": "markdown"
   }
  },
  {
   "cell_type": "markdown",
   "source": "# Task 1",
   "metadata": {
    "cell_id": "00002-c4ed5d03-3d0f-4d30-a67e-96fc17ff0745",
    "deepnote_cell_type": "markdown"
   }
  },
  {
   "cell_type": "markdown",
   "source": "## task 1a)\n\nWe start by rewriting $ \\alpha \\frac{\\partial C}{\\partial w_{ji}}$ using the chain rule. \n\n$ \\alpha \\frac{\\partial C}{\\partial w_{ji}} = \\alpha(\\frac{\\partial C}{\\partial z_j} \\cdot \\frac{\\partial z_j}{\\partial w_{ji}}) $. \n\n\nSince we know that $\\delta_{j}=\\frac{\\partial C}{\\partial z_{j}}$ and $\\frac{\\partial z_j}{\\partial w_{ji}} = x_i $, \n\nfrom equation: $\nw_{j i}:=w_{j i}-\\alpha \\frac{\\partial C}{\\partial w_{j i}}\n$\n\nthat $w_{ji} := w_{ji} - \\alpha \\delta_jx_i  $    $\\square$ \n\nNow we want to show that:\n\n$\n\\delta_{j}=f^{\\prime}\\left(z_{j}\\right) \\sum_{k} w_{k j} \\delta_{k}\n$\n\n\nWe rewrite this to: $\\frac{\\partial C}{\\partial z_j} = \\frac{\\partial C}{\\partial a_j} \\cdot \\frac{\\partial a_j}{\\partial z_j}   = \\underline{(\\sum_k \\frac{\\partial C}{\\partial z_k } \\cdot \\frac{\\partial z_k}{\\partial a_j})\\frac{\\partial a_j}{\\partial z_j} } $\n\nBy definition, we have that $a_j = f(z_j) $  $ \\rightarrow \\frac{\\partial a_j}{\\partial z_j} = f'(z_j) $\n\nWe know that $z_k = \\sum_j w_{kj}a_j \\rightarrow \\frac{\\partial z_k}{\\partial a_j} = \\sum_j w_{kj} $\n\nFrom the previous task we know that $ \\delta_k = \\frac{\\partial C}{\\partial z_k} $\n\nThus, \n\n$\n\\delta_{j}=f^{\\prime}\\left(z_{j}\\right) \\sum_{k} w_{k j} \\delta_{k} \\square\n$\n\n\n\n\n",
   "metadata": {
    "cell_id": "00003-cf6c371f-aefb-4aab-b00f-4a8f5e349b40",
    "deepnote_cell_type": "markdown"
   }
  },
  {
   "cell_type": "markdown",
   "source": "## task 1b)\n\nWe have that the update rule for the weights are: $\nw_{j i}:=w_{j i}-\\alpha \\frac{\\partial C}{\\partial w_{j i}}\n$\n\nThe update for the layer k can then be written as:\n\n\n",
   "metadata": {
    "cell_id": "00004-d3e9d5dc-39e7-421e-9094-588e3f369505",
    "deepnote_cell_type": "markdown"
   }
  },
  {
   "cell_type": "markdown",
   "source": "# Task 2",
   "metadata": {
    "cell_id": "00005-0de91897-cf25-4b8a-81e3-4a994e56d51c",
    "deepnote_cell_type": "markdown"
   }
  },
  {
   "cell_type": "markdown",
   "source": "## Task 2c)\n![](task2c.png)",
   "metadata": {
    "cell_id": "00006-5748f4f9-4cf9-4c08-bb7e-eba3762008bf",
    "deepnote_cell_type": "markdown"
   }
  },
  {
   "cell_type": "markdown",
   "source": "## Task 2d)\nSince we have a weight matrix of size (758, 64) from the first layer and a weight matrix of size (64, 10) from the hidden layer, we know that the number of parameters will be:\n$ (785 \\cdot 64) + (64 \\cdot 10) = \\underline{\\underline{50 880}} $",
   "metadata": {
    "cell_id": "00007-b3d2123a-6a06-4cc3-8e31-81bdead6b926",
    "deepnote_cell_type": "markdown"
   }
  },
  {
   "cell_type": "markdown",
   "source": "# Task 3",
   "metadata": {
    "cell_id": "00008-9e5db231-6c99-4d82-a230-e8fdd02ef418",
    "deepnote_cell_type": "markdown"
   }
  },
  {
   "cell_type": "markdown",
   "source": "## a) Improved weight initialization\nWith improved weight initialization we see that the train accuracy, but especially the validation accuracy improve a lot, as we see in in the plot:\n![](task3a.png)\n\n## b) Improved sigmoid\nWith improved weight initialization and improved sigmoird we see that the train accuracy and validation accuracy improve a bit. We can see from the plot that out model overfits and therefore we get 100% train accuracy. This could be avoided by implementing some of the tricks from the earlier assignment, such as early stopping. \n![](task3b.png)",
   "metadata": {
    "cell_id": "00009-8573ed95-5ceb-4c8f-b941-46bdce1201f9",
    "deepnote_cell_type": "markdown"
   }
  },
  {
   "cell_type": "markdown",
   "source": "# Task 4",
   "metadata": {
    "cell_id": "00010-94ffbda0-b7be-4e04-92e2-8bd73f32d454",
    "deepnote_cell_type": "markdown"
   }
  },
  {
   "cell_type": "markdown",
   "source": "## Task 4a)\n\nFILL IN ANSWER. ",
   "metadata": {
    "cell_id": "00011-f91a4d65-4170-4759-ba02-f1d6897c62e1",
    "deepnote_cell_type": "markdown"
   }
  },
  {
   "cell_type": "markdown",
   "source": "## Task 4b)\nFILL IN ANSWER\n",
   "metadata": {
    "cell_id": "00012-b64923a1-13d6-4b5a-9885-57fede71da4a",
    "deepnote_cell_type": "markdown"
   }
  },
  {
   "cell_type": "markdown",
   "source": "## Task 4d)\nFILL IN ANSWER",
   "metadata": {
    "cell_id": "00013-9f11047f-29e6-4407-8a58-685238be0b9d",
    "deepnote_cell_type": "markdown"
   }
  },
  {
   "cell_type": "markdown",
   "source": "## Task 4e)\nFILL IN ANSWER",
   "metadata": {
    "cell_id": "00014-47dd0b63-73c1-4204-a814-bfa356fed691",
    "deepnote_cell_type": "markdown"
   }
  },
  {
   "cell_type": "markdown",
   "source": "<a style='text-decoration:none;line-height:16px;display:flex;color:#5B5B62;padding:10px;justify-content:end;' href='https://deepnote.com?utm_source=created-in-deepnote-cell&projectId=fc7fa119-6ed4-4d50-aa34-54bc46270896' target=\"_blank\">\n<img alt='Created in deepnote.com' style='display:inline;max-height:16px;margin:0px;margin-right:7.5px;' src='data:image/svg+xml;base64,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' > </img>\nCreated in <span style='font-weight:600;margin-left:4px;'>Deepnote</span></a>",
   "metadata": {
    "tags": [],
    "created_in_deepnote_cell": true,
    "deepnote_cell_type": "markdown"
   }
  }
 ],
 "nbformat": 4,
 "nbformat_minor": 4,
 "metadata": {
  "kernelspec": {
   "display_name": "Python 3.8.1 64-bit ('py38': conda)",
   "language": "python",
   "name": "python38164bitpy38condac1f68ca5407a4349b0d7e37676f2fbb3"
  },
  "language_info": {
   "codemirror_mode": {
    "name": "ipython",
    "version": 3
   },
   "file_extension": ".py",
   "mimetype": "text/x-python",
   "name": "python",
   "nbconvert_exporter": "python",
   "pygments_lexer": "ipython3",
   "version": "3.8.1"
  },
  "deepnote_notebook_id": "e2ec2d2e-d1e9-4613-975c-fcf3efca0ddc",
  "deepnote": {},
  "deepnote_execution_queue": []
 }
}