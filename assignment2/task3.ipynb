{
 "cells": [
  {
   "cell_type": "code",
   "metadata": {
    "tags": [],
    "cell_id": "5a714c9e-2881-45e9-82fd-38cb5f888d96",
    "deepnote_cell_type": "code"
   },
   "source": "import utils\nimport matplotlib.pyplot as plt\nfrom task2a import pre_process_images, one_hot_encode, SoftmaxModel\nfrom task2 import SoftmaxTrainer",
   "execution_count": null,
   "outputs": []
  },
  {
   "cell_type": "code",
   "metadata": {
    "cell_id": "e9728697-f424-4ff1-8b6c-3d6ff57874dc",
    "tags": [],
    "deepnote_cell_type": "code"
   },
   "source": "if __name__ == \"__main__\":\n    # hyperparameters DO NOT CHANGE IF NOT SPECIFIED IN ASSIGNMENT TEXT\n    num_epochs = 50\n    learning_rate = .1\n    batch_size = 32\n    neurons_per_layer = [64, 10]\n    momentum_gamma = .9  # Task 3 hyperparameter\n    shuffle_data = True\n\n    use_improved_sigmoid = False\n    use_improved_weight_init = False\n    use_momentum = False\n\n    # Load dataset\n    X_train, Y_train, X_val, Y_val = utils.load_full_mnist()\n    X_train = pre_process_images(X_train)\n    X_val = pre_process_images(X_val)\n    Y_train = one_hot_encode(Y_train, 10)\n    Y_val = one_hot_encode(Y_val, 10)\n\n    model = SoftmaxModel(\n        neurons_per_layer,\n        use_improved_sigmoid,\n        use_improved_weight_init)\n    trainer = SoftmaxTrainer(\n        momentum_gamma, use_momentum,\n        model, learning_rate, batch_size, shuffle_data,\n        X_train, Y_train, X_val, Y_val,\n    )\n    train_history, val_history = trainer.train(num_epochs)\n\n    # Example created for comparing with and without shuffling.\n    # For comparison, show all loss/accuracy curves in the same plot\n    # YOU CAN DELETE EVERYTHING BELOW!\n    shuffle_data = False\n    model_no_shuffle = SoftmaxModel(\n        neurons_per_layer,\n        use_improved_sigmoid,\n        use_improved_weight_init)\n    trainer_shuffle = SoftmaxTrainer(\n        momentum_gamma, use_momentum,\n        model_no_shuffle, learning_rate, batch_size, shuffle_data,\n        X_train, Y_train, X_val, Y_val,\n    )\n    train_history_no_shuffle, val_history_no_shuffle = trainer_shuffle.train(\n        num_epochs)\n    shuffle_data = True\n\n    plt.subplot(1, 2, 1)\n    utils.plot_loss(train_history[\"loss\"],\n                    \"Task 2 Model\", npoints_to_average=10)\n    utils.plot_loss(\n        train_history_no_shuffle[\"loss\"], \"Task 2 Model - No dataset shuffling\", npoints_to_average=10)\n    plt.ylim([0, .4])\n    plt.subplot(1, 2, 2)\n    plt.ylim([0.85, .95])\n    utils.plot_loss(val_history[\"accuracy\"], \"Task 2 Model\")\n    utils.plot_loss(\n        val_history_no_shuffle[\"accuracy\"], \"Task 2 Model - No Dataset Shuffling\")\n    plt.ylabel(\"Validation Accuracy\")\n    plt.legend()\n    plt.show()\n",
   "execution_count": null,
   "outputs": []
  },
  {
   "cell_type": "markdown",
   "source": "<a style='text-decoration:none;line-height:16px;display:flex;color:#5B5B62;padding:10px;justify-content:end;' href='https://deepnote.com?utm_source=created-in-deepnote-cell&projectId=fc7fa119-6ed4-4d50-aa34-54bc46270896' target=\"_blank\">\n<img alt='Created in deepnote.com' style='display:inline;max-height:16px;margin:0px;margin-right:7.5px;' src='data:image/svg+xml;base64,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' > </img>\nCreated in <span style='font-weight:600;margin-left:4px;'>Deepnote</span></a>",
   "metadata": {
    "tags": [],
    "created_in_deepnote_cell": true,
    "deepnote_cell_type": "markdown"
   }
  }
 ],
 "nbformat": 4,
 "nbformat_minor": 2,
 "metadata": {
  "orig_nbformat": 2,
  "deepnote": {
   "is_reactive": false
  },
  "deepnote_notebook_id": "e89524e6-35e4-431d-be16-92d1402847d2",
  "deepnote_execution_queue": []
 }
}